{
  "nbformat": 4,
  "nbformat_minor": 0,
  "metadata": {
    "colab": {
      "name": "Lab5_AvendañoCasadiego_BernalBuitrago_DuqueGarcia.ipynb",
      "provenance": [],
      "collapsed_sections": []
    },
    "kernelspec": {
      "name": "python3",
      "display_name": "Python 3"
    }
  },
  "cells": [
    {
      "cell_type": "markdown",
      "metadata": {
        "id": "JH3FPEUZ4-hk",
        "colab_type": "text"
      },
      "source": [
        "# Implementaciones en python nativo, fortran y numpy de generador de matris aleatoria.\n",
        "\n"
      ]
    },
    {
      "cell_type": "markdown",
      "metadata": {
        "id": "kWXWrSOPj71a",
        "colab_type": "text"
      },
      "source": [
        "Integrantes:\n",
        "- Gabriel Andres Avendaño Casadiego \n",
        "- Valentina Bernal Buitrago\n",
        "- Daniela Duque Garcia\n"
      ]
    },
    {
      "cell_type": "code",
      "metadata": {
        "id": "xdRmdiOGjn4k",
        "colab_type": "code",
        "colab": {}
      },
      "source": [
        "import random\n",
        "import time\n",
        "import numpy as np"
      ],
      "execution_count": 0,
      "outputs": []
    },
    {
      "cell_type": "code",
      "metadata": {
        "id": "hj_R1wxnqy0P",
        "colab_type": "code",
        "outputId": "8235c458-2425-4f3a-c0d9-ba4b007b2e81",
        "colab": {
          "base_uri": "https://localhost:8080/",
          "height": 319
        }
      },
      "source": [
        "pip install -U fortran-magic"
      ],
      "execution_count": 0,
      "outputs": [
        {
          "output_type": "stream",
          "text": [
            "Collecting fortran-magic\n",
            "  Downloading https://files.pythonhosted.org/packages/53/b1/d664bd431354c450f40fa436b2c9306666cd417b23098dd5636751c557a4/fortran_magic-0.7-py3-none-any.whl\n",
            "Requirement already satisfied, skipping upgrade: ipython in /usr/local/lib/python3.6/dist-packages (from fortran-magic) (5.5.0)\n",
            "Requirement already satisfied, skipping upgrade: numpy in /usr/local/lib/python3.6/dist-packages (from fortran-magic) (1.17.4)\n",
            "Requirement already satisfied, skipping upgrade: prompt-toolkit<2.0.0,>=1.0.4 in /usr/local/lib/python3.6/dist-packages (from ipython->fortran-magic) (1.0.18)\n",
            "Requirement already satisfied, skipping upgrade: pexpect; sys_platform != \"win32\" in /usr/local/lib/python3.6/dist-packages (from ipython->fortran-magic) (4.7.0)\n",
            "Requirement already satisfied, skipping upgrade: simplegeneric>0.8 in /usr/local/lib/python3.6/dist-packages (from ipython->fortran-magic) (0.8.1)\n",
            "Requirement already satisfied, skipping upgrade: decorator in /usr/local/lib/python3.6/dist-packages (from ipython->fortran-magic) (4.4.1)\n",
            "Requirement already satisfied, skipping upgrade: pygments in /usr/local/lib/python3.6/dist-packages (from ipython->fortran-magic) (2.1.3)\n",
            "Requirement already satisfied, skipping upgrade: setuptools>=18.5 in /usr/local/lib/python3.6/dist-packages (from ipython->fortran-magic) (42.0.2)\n",
            "Requirement already satisfied, skipping upgrade: traitlets>=4.2 in /usr/local/lib/python3.6/dist-packages (from ipython->fortran-magic) (4.3.3)\n",
            "Requirement already satisfied, skipping upgrade: pickleshare in /usr/local/lib/python3.6/dist-packages (from ipython->fortran-magic) (0.7.5)\n",
            "Requirement already satisfied, skipping upgrade: wcwidth in /usr/local/lib/python3.6/dist-packages (from prompt-toolkit<2.0.0,>=1.0.4->ipython->fortran-magic) (0.1.7)\n",
            "Requirement already satisfied, skipping upgrade: six>=1.9.0 in /usr/local/lib/python3.6/dist-packages (from prompt-toolkit<2.0.0,>=1.0.4->ipython->fortran-magic) (1.12.0)\n",
            "Requirement already satisfied, skipping upgrade: ptyprocess>=0.5 in /usr/local/lib/python3.6/dist-packages (from pexpect; sys_platform != \"win32\"->ipython->fortran-magic) (0.6.0)\n",
            "Requirement already satisfied, skipping upgrade: ipython-genutils in /usr/local/lib/python3.6/dist-packages (from traitlets>=4.2->ipython->fortran-magic) (0.2.0)\n",
            "Installing collected packages: fortran-magic\n",
            "Successfully installed fortran-magic-0.7\n"
          ],
          "name": "stdout"
        }
      ]
    },
    {
      "cell_type": "code",
      "metadata": {
        "id": "cgwc4S7FqvsD",
        "colab_type": "code",
        "outputId": "9a64cfa2-9b3d-4702-d860-f3a039f6bd6a",
        "colab": {
          "base_uri": "https://localhost:8080/",
          "height": 50
        }
      },
      "source": [
        "%reload_ext fortranmagic"
      ],
      "execution_count": 0,
      "outputs": [
        {
          "output_type": "stream",
          "text": [
            "/usr/local/lib/python3.6/dist-packages/fortranmagic.py:147: UserWarning: get_ipython_cache_dir has moved to the IPython.paths module since IPython 4.0.\n",
            "  self._lib_dir = os.path.join(get_ipython_cache_dir(), 'fortran')\n"
          ],
          "name": "stderr"
        },
        {
          "output_type": "display_data",
          "data": {
            "application/javascript": [
              "$.getScript(\"https://raw.github.com/marijnh/CodeMirror/master/mode/fortran/fortran.js\", function () {\n",
              "IPython.config.cell_magic_highlight['magic_fortran'] = {'reg':[/^%%fortran/]};});\n"
            ]
          },
          "metadata": {
            "tags": []
          }
        }
      ]
    },
    {
      "cell_type": "markdown",
      "metadata": {
        "id": "ml-8a3JHm4cc",
        "colab_type": "text"
      },
      "source": [
        "### Implementacion en python\n"
      ]
    },
    {
      "cell_type": "code",
      "metadata": {
        "id": "Qe5eAxTmlaBV",
        "colab_type": "code",
        "outputId": "1ceffebf-dd3b-4268-d693-07d6c2366d04",
        "colab": {
          "base_uri": "https://localhost:8080/",
          "height": 34
        }
      },
      "source": [
        "def generate_matrix_python():\n",
        "  rows = 100\n",
        "  cols = 100\n",
        "\n",
        "  matrix = [[0] * rows for i in range(cols)]\n",
        "\n",
        "  random.seed(200)\n",
        "\n",
        "  start_time = time.time()\n",
        "\n",
        "  for k in range (10):\n",
        "    for i in range(rows):\n",
        "      for j in range (cols):\n",
        "        matrix[i][j] = random.randrange(100)\n",
        "\n",
        "  \n",
        "  end_time = time.time()\n",
        "\n",
        "  duration  = ( end_time - start_time ) / 10.0\n",
        "\n",
        "  print (f\"Avarage time taken by function : {duration * 10e6}  microseconds\")\n",
        "\n",
        "generate_matrix_python()"
      ],
      "execution_count": 0,
      "outputs": [
        {
          "output_type": "stream",
          "text": [
            "Avarage time taken by function : 86596.96578979492  microseconds\n"
          ],
          "name": "stdout"
        }
      ]
    },
    {
      "cell_type": "markdown",
      "metadata": {
        "id": "vFK9_fQrnCeo",
        "colab_type": "text"
      },
      "source": [
        "### Implementacion en numpy"
      ]
    },
    {
      "cell_type": "code",
      "metadata": {
        "id": "JJMflwiylaS1",
        "colab_type": "code",
        "outputId": "71ecb7fe-1962-4052-95ed-1f73c2a52b68",
        "colab": {
          "base_uri": "https://localhost:8080/",
          "height": 34
        }
      },
      "source": [
        "def generate_matrix_numpy():\n",
        "  rows = 100\n",
        "  cols = 100\n",
        "\n",
        "  np.random.seed(200)\n",
        "\n",
        "  start_time = time.time()\n",
        "  \n",
        "  for i in range (10):\n",
        "    matrix = np.random.randint(100, size=(rows, cols))\n",
        "  \n",
        "  end_time = time.time()\n",
        "\n",
        "  duration  = ( end_time - start_time ) / 10.0\n",
        "\n",
        "  print (f\"Avarage time taken by function : {duration * 10e6}  microseconds\")\n",
        "\n",
        "\n",
        "generate_matrix_numpy()"
      ],
      "execution_count": 0,
      "outputs": [
        {
          "output_type": "stream",
          "text": [
            "Avarage time taken by function : 2063.9896392822266  microseconds\n"
          ],
          "name": "stdout"
        }
      ]
    },
    {
      "cell_type": "markdown",
      "metadata": {
        "id": "q7F1_4R8qm53",
        "colab_type": "text"
      },
      "source": [
        "### Implementacion en fortran"
      ]
    },
    {
      "cell_type": "code",
      "metadata": {
        "id": "3evaV6dLlaXv",
        "colab_type": "code",
        "colab": {}
      },
      "source": [
        "%%fortran\n",
        "subroutine generate_matrix_fortran(rows, cols, res)\n",
        "    integer, intent(in) :: rows\n",
        "    integer, intent(in) :: cols\n",
        "\n",
        "    REAL, dimension (rows,cols) , intent(out) :: res\n",
        "\n",
        "    CALL RANDOM_NUMBER(res)\n",
        "end"
      ],
      "execution_count": 0,
      "outputs": []
    },
    {
      "cell_type": "code",
      "metadata": {
        "id": "t7lKkfjovY45",
        "colab_type": "code",
        "outputId": "c93110a8-a598-44de-dae8-b4cc1a957c63",
        "colab": {
          "base_uri": "https://localhost:8080/",
          "height": 67
        }
      },
      "source": [
        "# Probando la funcion\n",
        "generate_matrix_fortran(3, 3)"
      ],
      "execution_count": 0,
      "outputs": [
        {
          "output_type": "execute_result",
          "data": {
            "text/plain": [
              "array([[0.368455  , 0.21780896, 0.59948206],\n",
              "       [0.4927686 , 0.35125512, 0.42433184],\n",
              "       [0.56632537, 0.5947239 , 0.29416752]], dtype=float32)"
            ]
          },
          "metadata": {
            "tags": []
          },
          "execution_count": 127
        }
      ]
    },
    {
      "cell_type": "code",
      "metadata": {
        "id": "U0oVcd6qrGa_",
        "colab_type": "code",
        "outputId": "7ae71324-c26f-4045-c187-1ed4429385b1",
        "colab": {
          "base_uri": "https://localhost:8080/",
          "height": 34
        }
      },
      "source": [
        "rows = 100\n",
        "cols = 100\n",
        "\n",
        "start_time = time.time()\n",
        "\n",
        "for i in range (10):\n",
        "  generate_matrix_fortran(rows, cols)\n",
        "\n",
        "end_time = time.time()\n",
        "\n",
        "duration  = ( end_time - start_time ) / 10.0\n",
        "\n",
        "print (f\"Avarage time taken by function : {duration * 10e6}  microseconds\")"
      ],
      "execution_count": 0,
      "outputs": [
        {
          "output_type": "stream",
          "text": [
            "Avarage time taken by function : 693.5596466064453  microseconds\n"
          ],
          "name": "stdout"
        }
      ]
    }
  ]
}